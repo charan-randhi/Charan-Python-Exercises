{
 "cells": [
  {
   "cell_type": "markdown",
   "metadata": {},
   "source": [
    "#### 1.  Python Program to exchange the values of two numbers without using a temporary variable. "
   ]
  },
  {
   "cell_type": "code",
   "execution_count": 14,
   "metadata": {},
   "outputs": [
    {
     "name": "stdout",
     "output_type": "stream",
     "text": [
      "enter value of a:  10\n",
      "enter value of b:  15\n",
      "a value after swapping is  15  |   b value after swapping is  10\n"
     ]
    }
   ],
   "source": [
    "a=int(input(\"enter value of a:  \"))\n",
    "b=int(input(\"enter value of b:  \"))\n",
    "a,b=b,a\n",
    "print(\"a value after swapping is \", a ,\" |   b value after swapping is \",b)"
   ]
  },
  {
   "cell_type": "markdown",
   "metadata": {},
   "source": [
    "##### Code Explanation"
   ]
  },
  {
   "cell_type": "markdown",
   "metadata": {},
   "source": [
    "1. Get the variables a and b using runtime\n",
    "2. Apply Multiple variable, multiple assignment and swap the values\n",
    "3. Print the original and Desired output for display and validate the results.\n",
    "4. Desired output should be swapped values without using temp variable.\n"
   ]
  },
  {
   "cell_type": "markdown",
   "metadata": {},
   "source": [
    "#### 2. Write a python code to replace all  \"a\"  with 2 for the given variable\n"
   ]
  },
  {
   "cell_type": "code",
   "execution_count": 76,
   "metadata": {},
   "outputs": [
    {
     "data": {
      "text/plain": [
       "'gre2t l2kes'"
      ]
     },
     "execution_count": 76,
     "metadata": {},
     "output_type": "execute_result"
    }
   ],
   "source": [
    "name='great lakes'\n",
    "name.replace('a','2')"
   ]
  },
  {
   "cell_type": "markdown",
   "metadata": {},
   "source": [
    "#### 3. Python code for to  remove first character in string?"
   ]
  },
  {
   "cell_type": "code",
   "execution_count": 10,
   "metadata": {},
   "outputs": [
    {
     "data": {
      "text/plain": [
       "'reat lakes'"
      ]
     },
     "execution_count": 10,
     "metadata": {},
     "output_type": "execute_result"
    }
   ],
   "source": [
    "a=(\"great lakes\")\n",
    "a[1:]"
   ]
  },
  {
   "cell_type": "markdown",
   "metadata": {},
   "source": [
    "#### 4. Concatenate two strings  \n",
    "#### desired output :   \"Great Learning\""
   ]
  },
  {
   "cell_type": "code",
   "execution_count": 13,
   "metadata": {},
   "outputs": [
    {
     "name": "stdout",
     "output_type": "stream",
     "text": [
      "greatlearning\n"
     ]
    }
   ],
   "source": [
    "a=\"great\"\n",
    "b=\"learning\"\n",
    "c=a+b\n",
    "print(c)"
   ]
  },
  {
   "cell_type": "markdown",
   "metadata": {},
   "source": [
    "#### 5. Repeat the string \" Great Learning 3 times \n",
    "#### desired output :  'Great Learning Great Learning Great Learning '"
   ]
  },
  {
   "cell_type": "code",
   "execution_count": 15,
   "metadata": {},
   "outputs": [
    {
     "data": {
      "text/plain": [
       "'great learning great learning great learning '"
      ]
     },
     "execution_count": 15,
     "metadata": {},
     "output_type": "execute_result"
    }
   ],
   "source": [
    "a= \"great learning \"\n",
    "a*3"
   ]
  },
  {
   "cell_type": "markdown",
   "metadata": {},
   "source": [
    "#### 6.  Create 3 variables a1,a2,a3 and assign the same values \" 4 \" to all the variables"
   ]
  },
  {
   "cell_type": "code",
   "execution_count": 16,
   "metadata": {},
   "outputs": [
    {
     "name": "stdout",
     "output_type": "stream",
     "text": [
      "4\n",
      "4\n",
      "4\n"
     ]
    }
   ],
   "source": [
    "a1=a2=a3=4\n",
    "print(a1)\n",
    "print(a2)\n",
    "print(a3)"
   ]
  },
  {
   "cell_type": "markdown",
   "metadata": {},
   "source": [
    "#### 7. The height and weight of a person and calculate BMI of a person?\n"
   ]
  },
  {
   "cell_type": "code",
   "execution_count": 16,
   "metadata": {},
   "outputs": [
    {
     "name": "stdout",
     "output_type": "stream",
     "text": [
      "enter height in metres 1.83\n",
      "enter weight in kgs 72\n",
      "The BMI of the person given is  21.49959688255845\n"
     ]
    }
   ],
   "source": [
    "h=float(input(\"enter height in metres \"))\n",
    "w=float(input(\"enter weight in kgs \"))\n",
    "m=h**2\n",
    "b_m_i=w/m\n",
    "print(\"The BMI of the person given is \",b_m_i)"
   ]
  },
  {
   "cell_type": "markdown",
   "metadata": {},
   "source": [
    "#### 8.Formula area of circle = pi * r square"
   ]
  },
  {
   "cell_type": "code",
   "execution_count": 20,
   "metadata": {},
   "outputs": [
    {
     "name": "stdout",
     "output_type": "stream",
     "text": [
      "give the radius value50\n",
      "the area of circle is 7857.142857142857\n"
     ]
    }
   ],
   "source": [
    "pi= 22/7\n",
    "r=int(input(\"give the radius value\"))\n",
    "s=r**2\n",
    "area_of_circle=pi*s\n",
    "print(\"the area of circle is\",area_of_circle)"
   ]
  },
  {
   "cell_type": "markdown",
   "metadata": {},
   "source": [
    "#### 9.Calculate the simple interest\n",
    "#### simple_interest = p * n * r /100"
   ]
  },
  {
   "cell_type": "code",
   "execution_count": 71,
   "metadata": {},
   "outputs": [
    {
     "name": "stdout",
     "output_type": "stream",
     "text": [
      "enter p value 1\n",
      "enter n value 2\n",
      "enter r value 1\n",
      "simple_interest is  0.02\n"
     ]
    }
   ],
   "source": [
    "p= float(input(\"enter p value \"))\n",
    "n= float(input(\"enter n value \"))\n",
    "r= float(input(\"enter r value \"))\n",
    "s=p*n*r/100\n",
    "print(\"simple_interest is \", s)"
   ]
  },
  {
   "cell_type": "markdown",
   "metadata": {},
   "source": [
    "#### 10.Python code to calculate the square root of the given number(run time variable)"
   ]
  },
  {
   "cell_type": "code",
   "execution_count": 22,
   "metadata": {},
   "outputs": [
    {
     "name": "stdout",
     "output_type": "stream",
     "text": [
      "enter the value100\n",
      "the square root of given value is  10.0\n"
     ]
    }
   ],
   "source": [
    "a=int(input(\"enter the value\"))\n",
    "square_root=a**0.5\n",
    "print(\"the square root of given value is \", square_root)"
   ]
  },
  {
   "cell_type": "markdown",
   "metadata": {},
   "source": [
    "### IF Statement "
   ]
  },
  {
   "cell_type": "markdown",
   "metadata": {},
   "source": [
    "#### 1. x = 20 and y = 30. Write a pseudocode to find if x is less than y?"
   ]
  },
  {
   "cell_type": "code",
   "execution_count": 26,
   "metadata": {},
   "outputs": [
    {
     "name": "stdout",
     "output_type": "stream",
     "text": [
      "x is less than y\n"
     ]
    }
   ],
   "source": [
    "x=20\n",
    "y=30\n",
    "if x<y:\n",
    "    print(\"x is less than y\")\n",
    "else:\n",
    "    print(\"x is greater than y\")"
   ]
  },
  {
   "cell_type": "markdown",
   "metadata": {},
   "source": [
    "# if-else Statement"
   ]
  },
  {
   "cell_type": "markdown",
   "metadata": {},
   "source": [
    "#### 1. Write a pseudocode to check if a student has passed a subject based on a string input (Yes, No)"
   ]
  },
  {
   "cell_type": "code",
   "execution_count": 3,
   "metadata": {},
   "outputs": [
    {
     "name": "stdout",
     "output_type": "stream",
     "text": [
      "enter the student name charan\n",
      "enter maths marks scored 100\n",
      "enter science marks 50\n",
      "enter languages marks 30\n",
      "you have passed the examination\n"
     ]
    }
   ],
   "source": [
    "x=input(\"enter the student name \")\n",
    "a=int(input(\"enter maths marks scored \"))\n",
    "b=int(input(\"enter science marks \"))\n",
    "c=int(input(\"enter languages marks \"))\n",
    "d=(a+b+c)\n",
    "e=(d/300)*100\n",
    "if (e<=(50)):\n",
    "    print(\"sorry,you have failed\")\n",
    "else:\n",
    "    print(\"you have passed the examination\")\n"
   ]
  },
  {
   "cell_type": "markdown",
   "metadata": {},
   "source": [
    "#### 2. Take the password as an input and check if it is equal to 'great'. Show a message accordingly. Write a pseudocode for this."
   ]
  },
  {
   "cell_type": "code",
   "execution_count": 20,
   "metadata": {},
   "outputs": [
    {
     "name": "stdout",
     "output_type": "stream",
     "text": [
      "enter your password: great\n",
      "password correct , welcome\n"
     ]
    }
   ],
   "source": [
    "p=input(\"enter your password: \")\n",
    "if p=='great':\n",
    "    print(\"password correct , welcome\")\n",
    "    \n",
    "else:\n",
    "    print(\"incorrect password\")"
   ]
  },
  {
   "cell_type": "markdown",
   "metadata": {},
   "source": [
    "## Nested if Statement"
   ]
  },
  {
   "cell_type": "raw",
   "metadata": {},
   "source": [
    "1. Based on the users age, divide them in to three groups \n",
    "Group 1 : Age <18 , Minors who are not eligible to work\n",
    "Group 2 : 18<Age<60 , ELigible to work\n",
    "Group 3 : >60, Too old to work as per govt. regulations. \n",
    "\n",
    "Write a pseudocode for the same\n",
    "\n",
    "\n",
    "pseudocode :\n",
    "step 1 :take the input of age from user\n",
    "step 2 :check with if statement whether the particular regulations are matched\n",
    "step 3 :print the result according to the given rules\n"
   ]
  },
  {
   "cell_type": "code",
   "execution_count": 22,
   "metadata": {},
   "outputs": [
    {
     "name": "stdout",
     "output_type": "stream",
     "text": [
      "enter your age19\n",
      "you are eligible to work \n"
     ]
    }
   ],
   "source": [
    "age=int(input(\"enter your age\"))\n",
    "if age<=18:\n",
    "    print(\"you are not eligible to work \")\n",
    "elif 18<age<60:\n",
    "    print(\"you are eligible to work \")\n",
    "elif age>60:\n",
    "    print(\"you are too old to work as per govt rules\")"
   ]
  },
  {
   "cell_type": "markdown",
   "metadata": {},
   "source": [
    "# While Loop"
   ]
  },
  {
   "cell_type": "raw",
   "metadata": {},
   "source": [
    "1. Take an integer as input from the user and print all the numbers from 0 to that number in reverse order. \n",
    "\n",
    "Example : if the input is 3, the output should be\n",
    "3\n",
    "2\n",
    "1"
   ]
  },
  {
   "cell_type": "code",
   "execution_count": 83,
   "metadata": {},
   "outputs": [
    {
     "name": "stdout",
     "output_type": "stream",
     "text": [
      "Please Enter any Number: 9\n",
      "List of Natural Numbers from 9 to 1 in Reverse Order : \n",
      "9  8  7  6  5  4  3  2  1  0  "
     ]
    }
   ],
   "source": [
    "number = int(input(\"Please Enter any Number: \"))\n",
    "i = number\n",
    "\n",
    "print(\"List of Natural Numbers from {0} to 1 in Reverse Order : \".format(number)) \n",
    "\n",
    "while ( i >= 0):\n",
    "    print (i, end = '  ')\n",
    "    i = i - 1"
   ]
  },
  {
   "cell_type": "raw",
   "metadata": {},
   "source": [
    "2.  Write a pseudocode to find the squares of all the numbers based on an input. \n",
    "\n",
    "Example : If the input is 10, the output should be\n",
    "1*1 ,2*2 ,3*3...... 10*10?"
   ]
  },
  {
   "cell_type": "code",
   "execution_count": 25,
   "metadata": {},
   "outputs": [
    {
     "name": "stdout",
     "output_type": "stream",
     "text": [
      "Enter a number: 10\n",
      "1 * 1  ,  2 * 2  ,  3 * 3  ,  4 * 4  ,  5 * 5  ,  6 * 6  ,  7 * 7  ,  8 * 8  ,  9 * 9  ,  10 * 10  ,  "
     ]
    }
   ],
   "source": [
    "num = int(input(\"Enter a number: \"))\n",
    "i = 1\n",
    "while i<= num:\n",
    "    print(i,'*',i,' , ', end=' ')\n",
    "    i = i+1"
   ]
  },
  {
   "cell_type": "markdown",
   "metadata": {},
   "source": [
    "# FOR LOOP"
   ]
  },
  {
   "cell_type": "raw",
   "metadata": {},
   "source": [
    "1. Write a pseudocode to print the multiplication table of a given number.\n",
    "\n",
    "Example : if the number is 3, the output should print the below :  \n",
    "3 X 1 = 3\n",
    "3 X 2 = 6\n",
    "...\n",
    "3 X 10 =30"
   ]
  },
  {
   "cell_type": "code",
   "execution_count": 2,
   "metadata": {},
   "outputs": [
    {
     "name": "stdout",
     "output_type": "stream",
     "text": [
      "enter the number of the multiplication table 21235648987\n",
      "21235648987 x 0 = 0\n",
      "21235648987 x 1 = 21235648987\n",
      "21235648987 x 2 = 42471297974\n",
      "21235648987 x 3 = 63706946961\n",
      "21235648987 x 4 = 84942595948\n",
      "21235648987 x 5 = 106178244935\n",
      "21235648987 x 6 = 127413893922\n",
      "21235648987 x 7 = 148649542909\n",
      "21235648987 x 8 = 169885191896\n",
      "21235648987 x 9 = 191120840883\n",
      "21235648987 x 10 = 212356489870\n",
      "21235648987 x 11 = 233592138857\n"
     ]
    }
   ],
   "source": [
    "s=int(input(\"enter the number of the multiplication table \"))\n",
    "for i in range (0,12):\n",
    "    print(s , 'x',  i  , '=' , s*i)"
   ]
  },
  {
   "cell_type": "markdown",
   "metadata": {},
   "source": [
    "#### 2. Write a pseudocode to print squares of all numbers present in a list = [1, 12, 24, 36, 11, 20,50]\n"
   ]
  },
  {
   "cell_type": "code",
   "execution_count": 2,
   "metadata": {},
   "outputs": [
    {
     "name": "stdout",
     "output_type": "stream",
     "text": [
      "[1, 144, 576, 1296, 121, 400, 2500]\n"
     ]
    }
   ],
   "source": [
    "list1 = [1,12,24,36,11,20,50]\n",
    "list2= []\n",
    "for i in list1:\n",
    "    list2.append(i*i)\n",
    "    \n",
    "print(list2)"
   ]
  },
  {
   "cell_type": "code",
   "execution_count": 26,
   "metadata": {},
   "outputs": [],
   "source": []
  },
  {
   "cell_type": "code",
   "execution_count": null,
   "metadata": {},
   "outputs": [],
   "source": []
  },
  {
   "cell_type": "code",
   "execution_count": null,
   "metadata": {},
   "outputs": [],
   "source": []
  }
 ],
 "metadata": {
  "kernelspec": {
   "display_name": "Python 3",
   "language": "python",
   "name": "python3"
  },
  "language_info": {
   "codemirror_mode": {
    "name": "ipython",
    "version": 3
   },
   "file_extension": ".py",
   "mimetype": "text/x-python",
   "name": "python",
   "nbconvert_exporter": "python",
   "pygments_lexer": "ipython3",
   "version": "3.8.5"
  }
 },
 "nbformat": 4,
 "nbformat_minor": 2
}
